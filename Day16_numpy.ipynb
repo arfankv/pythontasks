{
  "nbformat": 4,
  "nbformat_minor": 0,
  "metadata": {
    "colab": {
      "provenance": [],
      "authorship_tag": "ABX9TyPOxJ59d6EG/IlymMS2/srs",
      "include_colab_link": true
    },
    "kernelspec": {
      "name": "python3",
      "display_name": "Python 3"
    },
    "language_info": {
      "name": "python"
    }
  },
  "cells": [
    {
      "cell_type": "markdown",
      "metadata": {
        "id": "view-in-github",
        "colab_type": "text"
      },
      "source": [
        "<a href=\"https://colab.research.google.com/github/arfankv/pythontasks/blob/main/Day16_numpy.ipynb\" target=\"_parent\"><img src=\"https://colab.research.google.com/assets/colab-badge.svg\" alt=\"Open In Colab\"/></a>"
      ]
    },
    {
      "cell_type": "markdown",
      "source": [
        "How do you create a NumPy array?"
      ],
      "metadata": {
        "id": "NDo5LjCktSSl"
      }
    },
    {
      "cell_type": "code",
      "source": [
        "import numpy as np\n",
        "num1=np.array([1,2,3,4,5])\n",
        "print(num1)"
      ],
      "metadata": {
        "id": "WjNPrHgTWCXx",
        "colab": {
          "base_uri": "https://localhost:8080/"
        },
        "outputId": "b813a161-3311-49cc-b2b7-ec91a6785761"
      },
      "execution_count": null,
      "outputs": [
        {
          "output_type": "stream",
          "name": "stdout",
          "text": [
            "[1 2 3 4 5]\n"
          ]
        }
      ]
    },
    {
      "cell_type": "markdown",
      "source": [
        "How do you access elements in a NumPy array"
      ],
      "metadata": {
        "id": "azeBJo7dtiIR"
      }
    },
    {
      "cell_type": "code",
      "source": [
        "num2 = np.array([[67,63,],[34,65]])\n",
        "print(num2[0,1])"
      ],
      "metadata": {
        "colab": {
          "base_uri": "https://localhost:8080/"
        },
        "id": "6FPQJe_btn_i",
        "outputId": "436ec0ed-371d-4138-b726-9fd80cd2cf8c"
      },
      "execution_count": null,
      "outputs": [
        {
          "output_type": "stream",
          "name": "stdout",
          "text": [
            "63\n"
          ]
        }
      ]
    },
    {
      "cell_type": "markdown",
      "source": [
        "How do you perform element-wise operations in NumPy?"
      ],
      "metadata": {
        "id": "euF6yp-7t4Mp"
      }
    },
    {
      "cell_type": "code",
      "source": [
        "a = np.array([3,4,5,6])\n",
        "b = np.array([2,9,7,0])\n",
        "c=a+b\n",
        "print(c)"
      ],
      "metadata": {
        "colab": {
          "base_uri": "https://localhost:8080/"
        },
        "id": "xX_1ZcF4t8gx",
        "outputId": "60ed7f92-e206-47bd-9b34-a6eb1287c168"
      },
      "execution_count": null,
      "outputs": [
        {
          "output_type": "stream",
          "name": "stdout",
          "text": [
            "[ 5 13 12  6]\n"
          ]
        }
      ]
    },
    {
      "cell_type": "markdown",
      "source": [
        "How do you reshape a NumPy array?"
      ],
      "metadata": {
        "id": "qFS8sDh0uZph"
      }
    },
    {
      "cell_type": "code",
      "source": [
        "list = np.array([1,2,3,4,5,6,7,8,9,10,11,12,13,14,15,16])\n",
        "d = list.reshape([2,2,4])\n",
        "print(d)"
      ],
      "metadata": {
        "colab": {
          "base_uri": "https://localhost:8080/"
        },
        "id": "M9rXAAV3u8WH",
        "outputId": "c91dff74-f000-4e1a-9148-eeb664c153c8"
      },
      "execution_count": null,
      "outputs": [
        {
          "output_type": "stream",
          "name": "stdout",
          "text": [
            "[[[ 1  2  3  4]\n",
            "  [ 5  6  7  8]]\n",
            "\n",
            " [[ 9 10 11 12]\n",
            "  [13 14 15 16]]]\n"
          ]
        }
      ]
    },
    {
      "cell_type": "markdown",
      "source": [
        "How do you find the maximum and minimum values in a NumPy array?"
      ],
      "metadata": {
        "id": "xUEauwY8wm6z"
      }
    },
    {
      "cell_type": "code",
      "source": [
        "maxmin = np.array([26,11,23,54,34,100,87])\n",
        "max_elmt = np.max(maxmin)\n",
        "min_elmt = np.min(maxmin)\n",
        "print(max_elmt)\n",
        "print(min_elmt)"
      ],
      "metadata": {
        "colab": {
          "base_uri": "https://localhost:8080/"
        },
        "id": "cyBxZQ_ywrnr",
        "outputId": "8a84058b-e01a-4431-e0a8-50618c2d1c56"
      },
      "execution_count": null,
      "outputs": [
        {
          "output_type": "stream",
          "name": "stdout",
          "text": [
            "100\n",
            "11\n"
          ]
        }
      ]
    },
    {
      "cell_type": "markdown",
      "source": [
        "How do you perform matrix multiplication in NumPy?"
      ],
      "metadata": {
        "id": "nwwXRMSaxMzt"
      }
    },
    {
      "cell_type": "code",
      "source": [
        "l1 = ([[3 , 4],\n",
        "       [7 , 8]])\n",
        "\n",
        "l2 = ([[9 ,10],\n",
        "      [15, 16]])\n",
        "result = np.multiply(l1,l2)\n",
        "print(result)"
      ],
      "metadata": {
        "colab": {
          "base_uri": "https://localhost:8080/"
        },
        "id": "q-bZhXG4xTT8",
        "outputId": "51c8ad29-acd7-4aa1-e88d-c58cd2e972ab"
      },
      "execution_count": null,
      "outputs": [
        {
          "output_type": "stream",
          "name": "stdout",
          "text": [
            "[[ 27  40]\n",
            " [105 128]]\n"
          ]
        }
      ]
    },
    {
      "cell_type": "markdown",
      "source": [
        "\n",
        "How do you find the mean, median, and standard deviation of a NumPy array?"
      ],
      "metadata": {
        "id": "xHRgCbUZxyWG"
      }
    },
    {
      "cell_type": "code",
      "source": [
        "mnlst = np.arange(11)\n",
        "print(mnlst)\n",
        "avg = np.average(mnlst)\n",
        "print(\" Mean : \" ,avg)"
      ],
      "metadata": {
        "colab": {
          "base_uri": "https://localhost:8080/"
        },
        "id": "pL6GBJEtx9qS",
        "outputId": "849b232e-0ea7-4b64-9968-69cea7d5dc25"
      },
      "execution_count": null,
      "outputs": [
        {
          "output_type": "stream",
          "name": "stdout",
          "text": [
            "[ 0  1  2  3  4  5  6  7  8  9 10]\n",
            " Mean :  5.0\n"
          ]
        }
      ]
    },
    {
      "cell_type": "code",
      "source": [
        "md = np.median(mnlst)\n",
        "print(\"Median : \",md)"
      ],
      "metadata": {
        "colab": {
          "base_uri": "https://localhost:8080/"
        },
        "id": "WhAh3lU6yHOL",
        "outputId": "f395b434-4fc5-4c60-f1d3-9bf2a8b9d9a9"
      },
      "execution_count": null,
      "outputs": [
        {
          "output_type": "stream",
          "name": "stdout",
          "text": [
            "Median :  5.0\n"
          ]
        }
      ]
    },
    {
      "cell_type": "code",
      "source": [
        "std = np.sqrt(np.mean((mnlst - np.mean(mnlst)) ** 2))\n",
        "print(\"std : \", std)"
      ],
      "metadata": {
        "colab": {
          "base_uri": "https://localhost:8080/"
        },
        "id": "y8PlsKX2yMt1",
        "outputId": "a5540197-fe52-4422-9bf0-670781e76028"
      },
      "execution_count": null,
      "outputs": [
        {
          "output_type": "stream",
          "name": "stdout",
          "text": [
            "std :  3.1622776601683795\n"
          ]
        }
      ]
    },
    {
      "cell_type": "markdown",
      "source": [
        "How do you generate random numbers in a NumPy array?"
      ],
      "metadata": {
        "id": "PmNrJqHZyVeo"
      }
    },
    {
      "cell_type": "code",
      "source": [
        "rm = np.random.randint(150)\n",
        "print(rm)"
      ],
      "metadata": {
        "colab": {
          "base_uri": "https://localhost:8080/"
        },
        "id": "HTkaObWIyWtZ",
        "outputId": "6eb5b0b4-23e8-484b-9e16-1f4d9db07432"
      },
      "execution_count": null,
      "outputs": [
        {
          "output_type": "stream",
          "name": "stdout",
          "text": [
            "145\n"
          ]
        }
      ]
    },
    {
      "cell_type": "markdown",
      "source": [
        "How do you find the index of the maximum or minimum value in a NumPy array?"
      ],
      "metadata": {
        "id": "Gc6G89MJyeO7"
      }
    },
    {
      "cell_type": "code",
      "source": [
        "mxmn = np.array([1, 3, 2, 4, 5, 6, 7])\n",
        "max_index = np.argmax(mxmn)\n",
        "min_index = np.argmin(mxmn)\n",
        "\n",
        "print(f\"Index of maximum : {max_index}\")\n",
        "print(f\"Index of minimum : {min_index}\")"
      ],
      "metadata": {
        "colab": {
          "base_uri": "https://localhost:8080/"
        },
        "id": "ZPeUeKKoyjqY",
        "outputId": "40def9ef-5cea-41db-b3bb-e52d7f113e54"
      },
      "execution_count": null,
      "outputs": [
        {
          "output_type": "stream",
          "name": "stdout",
          "text": [
            "Index of maximum : 6\n",
            "Index of minimum : 0\n"
          ]
        }
      ]
    },
    {
      "cell_type": "markdown",
      "source": [
        "How do you concatenate two NumPy arrays"
      ],
      "metadata": {
        "id": "Io6PRSZgy9NC"
      }
    },
    {
      "cell_type": "code",
      "source": [
        "x = ([[32 , 44],[51,16]])\n",
        "y = ([[91 ,10],[16,11]])\n",
        "z = np.concatenate([x, y])\n",
        "print(z)"
      ],
      "metadata": {
        "colab": {
          "base_uri": "https://localhost:8080/"
        },
        "id": "7tL6oAgszDLc",
        "outputId": "4f134905-2eb2-43e5-b369-d12bbbc71951"
      },
      "execution_count": null,
      "outputs": [
        {
          "output_type": "stream",
          "name": "stdout",
          "text": [
            "[[32 44]\n",
            " [51 16]\n",
            " [91 10]\n",
            " [16 11]]\n"
          ]
        }
      ]
    },
    {
      "cell_type": "markdown",
      "source": [
        "How do you sort a NumPy array"
      ],
      "metadata": {
        "id": "sFiU840pzI1B"
      }
    },
    {
      "cell_type": "code",
      "source": [
        "f = np.array([[1 , 6],\n",
        "              [7 , 1]])\n",
        "k = np.sort(f)\n",
        "print(k)"
      ],
      "metadata": {
        "colab": {
          "base_uri": "https://localhost:8080/"
        },
        "id": "llkf5Sa0zOYo",
        "outputId": "5bb424af-78f3-4d3a-ec6c-803735e93f77"
      },
      "execution_count": null,
      "outputs": [
        {
          "output_type": "stream",
          "name": "stdout",
          "text": [
            "[[1 6]\n",
            " [1 7]]\n"
          ]
        }
      ]
    },
    {
      "cell_type": "markdown",
      "source": [
        "How do you find unique elements in a NumPy array"
      ],
      "metadata": {
        "id": "_LlGQ7okzdVS"
      }
    },
    {
      "cell_type": "code",
      "source": [
        "uq = np.array([1, 3, 2, 4, 6, 5, 7])\n",
        "qn = np.unique(uq)\n",
        "print(qn)"
      ],
      "metadata": {
        "colab": {
          "base_uri": "https://localhost:8080/"
        },
        "id": "c1rl4QRDzjaC",
        "outputId": "843bacf7-d503-427a-a8dc-0d1d4b992ab6"
      },
      "execution_count": null,
      "outputs": [
        {
          "output_type": "stream",
          "name": "stdout",
          "text": [
            "[1 2 3 4 5 6 7]\n"
          ]
        }
      ]
    },
    {
      "cell_type": "markdown",
      "source": [
        "How do you perform element-wise comparison in NumPy?"
      ],
      "metadata": {
        "id": "3KM1cSXgz5NH"
      }
    },
    {
      "cell_type": "code",
      "source": [
        "h = np.array([2, 4, 6, 7])\n",
        "g = np.array([2, 6, 6, 8])\n",
        "h == g"
      ],
      "metadata": {
        "colab": {
          "base_uri": "https://localhost:8080/"
        },
        "id": "hwB3tXnxz-xu",
        "outputId": "fb39fcbc-2abb-4212-b764-8b12f7c84d0e"
      },
      "execution_count": null,
      "outputs": [
        {
          "output_type": "execute_result",
          "data": {
            "text/plain": [
              "array([ True, False,  True, False])"
            ]
          },
          "metadata": {},
          "execution_count": 19
        }
      ]
    },
    {
      "cell_type": "markdown",
      "source": [
        "\n",
        "How do you find the indices of non-zero elements in a NumPy array?"
      ],
      "metadata": {
        "id": "yOlvNCAt0vf2"
      }
    },
    {
      "cell_type": "code",
      "source": [
        "zro = np.array([0, 3, 0, 4, 6, 0, 7])\n",
        "ro = np.nonzero(zro)\n",
        "print(ro)"
      ],
      "metadata": {
        "colab": {
          "base_uri": "https://localhost:8080/"
        },
        "id": "Aj5nqrr40xKN",
        "outputId": "d3154421-ad31-40a9-abff-43cfa684d1a0"
      },
      "execution_count": null,
      "outputs": [
        {
          "output_type": "stream",
          "name": "stdout",
          "text": [
            "(array([1, 3, 4, 6]),)\n"
          ]
        }
      ]
    },
    {
      "cell_type": "markdown",
      "source": [
        "How do you perform element-wise logical operations in NumPy?"
      ],
      "metadata": {
        "id": "2TNDkbDo1Bis"
      }
    },
    {
      "cell_type": "code",
      "source": [
        "a = np.array([2, 2, 3, 4])\n",
        "b = np.array([1, 4, 2, 7])\n",
        "\n",
        "d = np.logical_and(a > 1, b < 3)\n",
        "print(d)"
      ],
      "metadata": {
        "colab": {
          "base_uri": "https://localhost:8080/"
        },
        "id": "cz_BWETH1Sie",
        "outputId": "b939f027-3e3e-45bf-ff69-0bfba59966c3"
      },
      "execution_count": null,
      "outputs": [
        {
          "output_type": "stream",
          "name": "stdout",
          "text": [
            "[ True False  True False]\n"
          ]
        }
      ]
    },
    {
      "cell_type": "markdown",
      "source": [
        "How do you find the diagonal elements of a NumPy array?"
      ],
      "metadata": {
        "id": "zG96aE7R1YJN"
      }
    },
    {
      "cell_type": "code",
      "source": [
        "a = np.array([2, 2, 3, 4])\n",
        "b = np.array([1, 4, 2, 7])\n",
        "\n",
        "d = np.logical_and(a > 1, b < 3)\n",
        "print(d)"
      ],
      "metadata": {
        "id": "DVPZ8hL01kAc"
      },
      "execution_count": null,
      "outputs": []
    }
  ]
}