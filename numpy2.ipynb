{
  "nbformat": 4,
  "nbformat_minor": 0,
  "metadata": {
    "colab": {
      "provenance": [],
      "include_colab_link": true
    },
    "kernelspec": {
      "name": "python3",
      "display_name": "Python 3"
    },
    "language_info": {
      "name": "python"
    }
  },
  "cells": [
    {
      "cell_type": "markdown",
      "metadata": {
        "id": "view-in-github",
        "colab_type": "text"
      },
      "source": [
        "<a href=\"https://colab.research.google.com/github/arfankv/pythontasks/blob/main/numpy2.ipynb\" target=\"_parent\"><img src=\"https://colab.research.google.com/assets/colab-badge.svg\" alt=\"Open In Colab\"/></a>"
      ]
    },
    {
      "cell_type": "markdown",
      "source": [
        "How can I slice a 1-dimensional array in NumPy?"
      ],
      "metadata": {
        "id": "YkVn1B4CkhXV"
      }
    },
    {
      "cell_type": "code",
      "execution_count": null,
      "metadata": {
        "colab": {
          "base_uri": "https://localhost:8080/"
        },
        "id": "XQOHwolIjuwV",
        "outputId": "751dba4d-7241-49b0-b6e2-e644b99acf04"
      },
      "outputs": [
        {
          "output_type": "stream",
          "name": "stdout",
          "text": [
            "[2 3]\n"
          ]
        }
      ],
      "source": [
        "import numpy as np\n",
        "array=np.array([1,2,3,4,5])\n",
        "print(array[1:3])"
      ]
    },
    {
      "cell_type": "markdown",
      "source": [
        "Can I slice a 2-dimensional array in NumPy?"
      ],
      "metadata": {
        "id": "Drd0lgCvkk3L"
      }
    },
    {
      "cell_type": "code",
      "source": [
        "array1=np.array([[1,2,3,4],[5,6,7,8]])\n",
        "print(array1[0:2,1:3])"
      ],
      "metadata": {
        "colab": {
          "base_uri": "https://localhost:8080/"
        },
        "id": "E2KyX7GxktkH",
        "outputId": "391f293d-f758-42b6-83b1-c25ffbb306cc"
      },
      "execution_count": null,
      "outputs": [
        {
          "output_type": "stream",
          "name": "stdout",
          "text": [
            "[[2 3]\n",
            " [6 7]]\n"
          ]
        }
      ]
    },
    {
      "cell_type": "markdown",
      "source": [
        "How can I slice an array with a step in NumPy?"
      ],
      "metadata": {
        "id": "fTpKpBZ9nRJI"
      }
    },
    {
      "cell_type": "code",
      "source": [
        "array3=np.array([1,2,3,4,5])\n",
        "print(array3[1:4:2])"
      ],
      "metadata": {
        "id": "fkAlH3XxnUVu",
        "outputId": "09e60347-e67a-4784-be52-cbf0e64e9b5a",
        "colab": {
          "base_uri": "https://localhost:8080/"
        }
      },
      "execution_count": null,
      "outputs": [
        {
          "output_type": "stream",
          "name": "stdout",
          "text": [
            "[2 4]\n"
          ]
        }
      ]
    },
    {
      "cell_type": "markdown",
      "source": [
        "  Can I use negative indices for slicing in NumPy?"
      ],
      "metadata": {
        "id": "UlCw0ObjpsbF"
      }
    },
    {
      "cell_type": "code",
      "source": [
        "array2=np.array([1,2,3,4,5,6,])\n",
        "print(array2[-3:-1])"
      ],
      "metadata": {
        "id": "dzY5O0dcpwNj",
        "outputId": "197f0146-1b24-4a97-b781-293234082b70",
        "colab": {
          "base_uri": "https://localhost:8080/"
        }
      },
      "execution_count": null,
      "outputs": [
        {
          "output_type": "stream",
          "name": "stdout",
          "text": [
            "[4 5]\n"
          ]
        }
      ]
    },
    {
      "cell_type": "markdown",
      "source": [
        "What happens if I omit the start or end index in a slice?"
      ],
      "metadata": {
        "id": "_7d75AH8qdQc"
      }
    },
    {
      "cell_type": "code",
      "source": [
        "array4=np.array([1,2,3,4,5,6])\n",
        "print(array4[:3])"
      ],
      "metadata": {
        "id": "7RYnWBD0seHd",
        "outputId": "f6c9a9e9-bb57-4b98-ab04-1383f929430a",
        "colab": {
          "base_uri": "https://localhost:8080/"
        }
      },
      "execution_count": null,
      "outputs": [
        {
          "output_type": "stream",
          "name": "stdout",
          "text": [
            "[1 2 3]\n"
          ]
        }
      ]
    },
    {
      "cell_type": "code",
      "source": [
        "print(array4[0:])"
      ],
      "metadata": {
        "id": "FiNvtEDOs20F",
        "outputId": "76ed757d-9d9c-46e6-b526-e60e38a7b63b",
        "colab": {
          "base_uri": "https://localhost:8080/"
        }
      },
      "execution_count": null,
      "outputs": [
        {
          "output_type": "stream",
          "name": "stdout",
          "text": [
            "[1 2 3 4 5 6]\n"
          ]
        }
      ]
    },
    {
      "cell_type": "markdown",
      "source": [
        "Can I modify the original array using slicing in NumPy?"
      ],
      "metadata": {
        "id": "dfRMSus8t0f2"
      }
    },
    {
      "cell_type": "code",
      "source": [
        "array5=np.array([1,2,3,4,5])\n",
        "array5[:1]=0\n",
        "print(array5)"
      ],
      "metadata": {
        "id": "T6v2LjxxwLPX",
        "outputId": "384901df-24ad-4c39-ab70-621ed6304734",
        "colab": {
          "base_uri": "https://localhost:8080/"
        }
      },
      "execution_count": null,
      "outputs": [
        {
          "output_type": "stream",
          "name": "stdout",
          "text": [
            "[0 2 3 4 5]\n"
          ]
        }
      ]
    },
    {
      "cell_type": "markdown",
      "source": [
        "How can I slice a multi-dimensional array along a specific axis in NumPy?"
      ],
      "metadata": {
        "id": "U6kRKZfJ6MSn"
      }
    },
    {
      "cell_type": "code",
      "source": [
        "\n",
        "np. take_along_axis(1,1:2,axis=0)"
      ],
      "metadata": {
        "id": "KKL-_y0r4y9H"
      },
      "execution_count": null,
      "outputs": []
    }
  ]
}