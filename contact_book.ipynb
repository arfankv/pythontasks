{
  "nbformat": 4,
  "nbformat_minor": 0,
  "metadata": {
    "colab": {
      "provenance": [],
      "authorship_tag": "ABX9TyOX4YHRorsufCvo1IOOZM09",
      "include_colab_link": true
    },
    "kernelspec": {
      "name": "python3",
      "display_name": "Python 3"
    },
    "language_info": {
      "name": "python"
    }
  },
  "cells": [
    {
      "cell_type": "markdown",
      "metadata": {
        "id": "view-in-github",
        "colab_type": "text"
      },
      "source": [
        "<a href=\"https://colab.research.google.com/github/arfankv/pythontasks/blob/main/contact_book.ipynb\" target=\"_parent\"><img src=\"https://colab.research.google.com/assets/colab-badge.svg\" alt=\"Open In Colab\"/></a>"
      ]
    },
    {
      "cell_type": "markdown",
      "source": [
        "contact book"
      ],
      "metadata": {
        "id": "hrjgJp18pgAm"
      }
    },
    {
      "cell_type": "code",
      "source": [
        "\n",
        "\n",
        "names = []\n",
        "contact_numbers = []\n",
        "num = int(input(\"Enter the total number of contacts you want to save: \"))\n",
        "for i in range(num):\n",
        "    name = input(\"Name: \")\n",
        "    contact_number = int(input(\"Contact Number: \"))\n",
        "    names.append(name)\n",
        "    contact_numbers.append(contact_number)\n",
        "print(\"\\nName Contact Number\\n\")\n",
        "for i in range(num):\n",
        "    print(\"\".format(names[i], contact_numbers[i]))\n",
        "search_term = input(\"\\nEnter search term: \")\n",
        "print(\"Search result:\")\n",
        "if search_term in names:\n",
        "    index = names.index(search_term)\n",
        "    contact_number = contact_numbers[index]\n",
        "    print(\"Name: {}, Phone Number: {}\".format(search_term, contact_number))\n",
        "else:\n",
        "    print(\"No records\")"
      ],
      "metadata": {
        "colab": {
          "base_uri": "https://localhost:8080/"
        },
        "id": "DxTBo0aftgeJ",
        "outputId": "40b39c73-fb01-434a-c4d7-107c9484a6c6"
      },
      "execution_count": null,
      "outputs": [
        {
          "output_type": "stream",
          "name": "stdout",
          "text": [
            "Enter the total number of contacts you want to save: 2\n",
            "Name: we\n",
            "Contact Number: 23\n",
            "Name: sd\n",
            "Contact Number: 23\n",
            "\n",
            "Name Contact Number\n",
            "\n",
            "\n",
            "\n",
            "\n",
            "Enter search term: we\n",
            "Search result:\n",
            "Name: we, Phone Number: 23\n"
          ]
        }
      ]
    }
  ]
}