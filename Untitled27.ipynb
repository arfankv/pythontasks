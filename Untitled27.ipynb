{
  "nbformat": 4,
  "nbformat_minor": 0,
  "metadata": {
    "colab": {
      "provenance": [],
      "authorship_tag": "ABX9TyMlUPdBbUuVTTLUygXNBlFp",
      "include_colab_link": true
    },
    "kernelspec": {
      "name": "python3",
      "display_name": "Python 3"
    },
    "language_info": {
      "name": "python"
    }
  },
  "cells": [
    {
      "cell_type": "markdown",
      "metadata": {
        "id": "view-in-github",
        "colab_type": "text"
      },
      "source": [
        "<a href=\"https://colab.research.google.com/github/arfankv/pythontasks/blob/main/Untitled27.ipynb\" target=\"_parent\"><img src=\"https://colab.research.google.com/assets/colab-badge.svg\" alt=\"Open In Colab\"/></a>"
      ]
    },
    {
      "cell_type": "code",
      "execution_count": null,
      "metadata": {
        "colab": {
          "base_uri": "https://localhost:8080/"
        },
        "id": "47lEhxuLeZMf",
        "outputId": "c20654d0-3aef-4566-95f2-8365c2c372e5"
      },
      "outputs": [
        {
          "output_type": "stream",
          "name": "stdout",
          "text": [
            "enter a number5\n",
            "5 is odd number\n"
          ]
        }
      ],
      "source": [
        "a=int(input(\"enter a number\"))\n",
        "if(a%2==0):\n",
        "    print(a,\"it is even\")\n",
        "else:\n",
        "    print (a,\"is odd number\")"
      ]
    },
    {
      "cell_type": "code",
      "source": [
        "a=int(input(\"enter a year\"))\n",
        "if(a%400==0):\n",
        "  print(a,'it is leap year')\n",
        "elif(a%4==0)\n",
        "  print(a,'is not a leap year')"
      ],
      "metadata": {
        "colab": {
          "base_uri": "https://localhost:8080/"
        },
        "id": "uJSzdQrTfzMc",
        "outputId": "4858922b-f90b-4477-a914-e9b13b1f34ab"
      },
      "execution_count": null,
      "outputs": [
        {
          "output_type": "stream",
          "name": "stdout",
          "text": [
            "enter a year2005\n",
            "2005 is not a leap year\n"
          ]
        }
      ]
    },
    {
      "cell_type": "code",
      "source": [],
      "metadata": {
        "id": "I86pJHhgggq-"
      },
      "execution_count": null,
      "outputs": []
    }
  ]
}