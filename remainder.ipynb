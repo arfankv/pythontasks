{
  "nbformat": 4,
  "nbformat_minor": 0,
  "metadata": {
    "colab": {
      "provenance": [],
      "authorship_tag": "ABX9TyPawzN/7YfjcnYK9zp5S3Iw",
      "include_colab_link": true
    },
    "kernelspec": {
      "name": "python3",
      "display_name": "Python 3"
    },
    "language_info": {
      "name": "python"
    }
  },
  "cells": [
    {
      "cell_type": "markdown",
      "metadata": {
        "id": "view-in-github",
        "colab_type": "text"
      },
      "source": [
        "<a href=\"https://colab.research.google.com/github/arfankv/pythontasks/blob/main/remainder.ipynb\" target=\"_parent\"><img src=\"https://colab.research.google.com/assets/colab-badge.svg\" alt=\"Open In Colab\"/></a>"
      ]
    },
    {
      "cell_type": "code",
      "execution_count": null,
      "metadata": {
        "id": "ivnXmLI4z9eL",
        "colab": {
          "base_uri": "https://localhost:8080/"
        },
        "outputId": "15ce5a45-8160-46d9-d014-4beaf750f596"
      },
      "outputs": [
        {
          "output_type": "stream",
          "name": "stdout",
          "text": [
            "remainder 1\n",
            "quotient 3\n"
          ]
        }
      ],
      "source": [
        "\n",
        "a=10\n",
        "b=3\n",
        "r = a%b\n",
        "q=a//b\n",
        "print(\"remainder\",r)\n",
        "print(\"quotient\",q)\n",
        "\n",
        ""
      ]
    },
    {
      "cell_type": "code",
      "source": [
        "a=10\n",
        "b=5\n",
        "s=a-b\n",
        "print(\"difference is\",s)"
      ],
      "metadata": {
        "colab": {
          "base_uri": "https://localhost:8080/"
        },
        "id": "0QtuMufo5NYA",
        "outputId": "24147629-58f1-4cc0-a192-93391559c614"
      },
      "execution_count": null,
      "outputs": [
        {
          "output_type": "stream",
          "name": "stdout",
          "text": [
            "difference is 5\n"
          ]
        }
      ]
    },
    {
      "cell_type": "code",
      "source": [
        "a=input(\"eneter a number\")\n",
        "b=input(\"enter a number\")\n",
        "s=a+b\n",
        "print(\"sum of a and b is\",s )\n"
      ],
      "metadata": {
        "colab": {
          "base_uri": "https://localhost:8080/"
        },
        "id": "jlFCm-Nu5iWY",
        "outputId": "33083845-f4b9-4aad-de97-d569db583a54"
      },
      "execution_count": null,
      "outputs": [
        {
          "name": "stdout",
          "output_type": "stream",
          "text": [
            "eneter a number5\n"
          ]
        }
      ]
    }
  ]
}