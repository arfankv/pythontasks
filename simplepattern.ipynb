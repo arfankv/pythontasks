{
  "nbformat": 4,
  "nbformat_minor": 0,
  "metadata": {
    "colab": {
      "provenance": [],
      "authorship_tag": "ABX9TyPUGhv1N+vyw2Dd4nXX/MRr",
      "include_colab_link": true
    },
    "kernelspec": {
      "name": "python3",
      "display_name": "Python 3"
    },
    "language_info": {
      "name": "python"
    }
  },
  "cells": [
    {
      "cell_type": "markdown",
      "metadata": {
        "id": "view-in-github",
        "colab_type": "text"
      },
      "source": [
        "<a href=\"https://colab.research.google.com/github/arfankv/pythontasks/blob/main/simplepattern.ipynb\" target=\"_parent\"><img src=\"https://colab.research.google.com/assets/colab-badge.svg\" alt=\"Open In Colab\"/></a>"
      ]
    },
    {
      "cell_type": "code",
      "execution_count": null,
      "metadata": {
        "colab": {
          "base_uri": "https://localhost:8080/"
        },
        "id": "IeZkXRRLgmXR",
        "outputId": "3c6b08ac-b18b-4dcd-e3b0-c3eff766b995"
      },
      "outputs": [
        {
          "output_type": "stream",
          "name": "stdout",
          "text": [
            "* * * * "
          ]
        }
      ],
      "source": [
        "n=5\n",
        "for i in range(0,4):\n",
        "  print(\"*\",end=' ')\n",
        "for i in range(5):\n",
        "  for j in range(1,n):\n",
        "    print(\"*\")\n",
        "\n",
        ""
      ]
    }
  ]
}